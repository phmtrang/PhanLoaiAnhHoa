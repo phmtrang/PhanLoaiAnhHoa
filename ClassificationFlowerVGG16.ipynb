{
  "nbformat": 4,
  "nbformat_minor": 0,
  "metadata": {
    "colab": {
      "name": "ClassificationFlowerVGG16.ipynb",
      "provenance": [],
      "collapsed_sections": []
    },
    "kernelspec": {
      "name": "python3",
      "display_name": "Python 3"
    },
    "language_info": {
      "name": "python"
    },
    "accelerator": "GPU"
  },
  "cells": [
    {
      "cell_type": "code",
      "execution_count": null,
      "metadata": {
        "colab": {
          "base_uri": "https://localhost:8080/"
        },
        "id": "TLdkZ2hFRzA3",
        "outputId": "07f5e6e3-0b84-400a-9afa-f668d3e8eb9a"
      },
      "outputs": [
        {
          "output_type": "stream",
          "name": "stdout",
          "text": [
            "Mounted at /content/drive\n"
          ]
        }
      ],
      "source": [
        "from google.colab import drive\n",
        "drive.mount('/content/drive')"
      ]
    },
    {
      "cell_type": "code",
      "source": [
        "# Thêm thư viện\n",
        "from sklearn.linear_model import LogisticRegression\n",
        "from sklearn.model_selection import GridSearchCV\n",
        "from sklearn.metrics import classification_report,confusion_matrix\n",
        "from imutils import paths\n",
        "from keras.applications.vgg16 import VGG16\n",
        "from keras.applications import imagenet_utils\n",
        "from keras.preprocessing.image import img_to_array\n",
        "from keras.preprocessing.image import load_img\n",
        "from sklearn.preprocessing import LabelEncoder\n",
        "from sklearn.preprocessing import LabelBinarizer\n",
        "from sklearn.model_selection import train_test_split\n",
        "import numpy as np\n",
        "import random\n",
        "import os\n",
        "import pandas as pd\n",
        "import matplotlib.pyplot as plt\n",
        "from sklearn.svm import SVC\n",
        "import joblib\n",
        "import cv2\n",
        "from sklearn.utils.extmath import softmax\n",
        "from keras import models\n",
        "from keras import layers\n",
        "from keras import optimizers"
      ],
      "metadata": {
        "id": "d3plB-9MR2Kw"
      },
      "execution_count": null,
      "outputs": []
    },
    {
      "cell_type": "code",
      "source": [
        "!unzip /content/drive/MyDrive/KDL/Train.zip"
      ],
      "metadata": {
        "id": "iAXX77hER-uo"
      },
      "execution_count": null,
      "outputs": []
    },
    {
      "cell_type": "code",
      "source": [
        "# Lấy các đường dẫn đến ảnh.\n",
        "image_path = list(paths.list_images('Train'))\n",
        "print(image_path)\n",
        "# Đổi vị trí ngẫu nhiên các đường dẫn ảnh\n",
        "random.shuffle(image_path)"
      ],
      "metadata": {
        "id": "ylKp8_tcSbXQ"
      },
      "execution_count": null,
      "outputs": []
    },
    {
      "cell_type": "code",
      "source": [
        "# Đường dẫn ảnh sẽ là dataset/tên_loài_hoa/tên_ảnh ví dụ dataset/Bluebell/image_0241.jpg nên p.split(os.path.sep)[-2] sẽ lấy ra được tên loài hoa\n",
        "labels = [p.split(os.path.sep)[-2] for p in image_path]\n",
        "\n",
        "# Chuyển tên các loài hoa thành số\n",
        "le = LabelEncoder()\n",
        "labels = le.fit_transform(labels)\n",
        "\n",
        "lb = LabelBinarizer()\n",
        "labels = lb.fit_transform(labels)"
      ],
      "metadata": {
        "id": "4NTgqpLlSeoN"
      },
      "execution_count": null,
      "outputs": []
    },
    {
      "cell_type": "code",
      "source": [
        "# Load model VGG 16 của ImageNet dataset, include_top=False để bỏ phần Fully connected layer ở cuối.\n",
        "model = VGG16(weights='imagenet', include_top=False)"
      ],
      "metadata": {
        "colab": {
          "base_uri": "https://localhost:8080/"
        },
        "id": "fnCNSZLOShXN",
        "outputId": "ee78b8d0-ccc9-4558-b112-e1e8b06ea322"
      },
      "execution_count": null,
      "outputs": [
        {
          "output_type": "stream",
          "name": "stdout",
          "text": [
            "Downloading data from https://storage.googleapis.com/tensorflow/keras-applications/vgg16/vgg16_weights_tf_dim_ordering_tf_kernels_notop.h5\n",
            "58892288/58889256 [==============================] - 0s 0us/step\n",
            "58900480/58889256 [==============================] - 0s 0us/step\n"
          ]
        }
      ]
    },
    {
      "cell_type": "code",
      "source": [
        "list_image = []\n",
        "for (j, imagePath) in enumerate(image_path):\n",
        "    image = load_img(imagePath, target_size=(224, 224))\n",
        "    image = img_to_array(image)\n",
        "    \n",
        "    image = np.expand_dims(image, 0)\n",
        "    #chua hieu\n",
        "    image = imagenet_utils.preprocess_input(image)\n",
        "    \n",
        "    list_image.append(image)\n",
        "    \n",
        "list_image = np.vstack(list_image)"
      ],
      "metadata": {
        "id": "Q8VP7X4LSiEv"
      },
      "execution_count": null,
      "outputs": []
    },
    {
      "cell_type": "code",
      "source": [
        "features = model.predict(list_image)\n",
        "\n",
        "# Giống bước flatten trong CNN, chuyển từ tensor 3 chiều sau ConvNet sang vector 1 chiều\n",
        "features = features.reshape((features.shape[0], 512*7*7))"
      ],
      "metadata": {
        "id": "0qVtGbDdSkZh"
      },
      "execution_count": null,
      "outputs": []
    },
    {
      "cell_type": "code",
      "source": [
        "model1 = models.Sequential()\n",
        "model1.add(layers.Dense(6, activation='softmax'))\n",
        "\n",
        "model1.compile(loss='categorical_crossentropy',\n",
        "              optimizer='adam',\n",
        "              metrics=['accuracy'])"
      ],
      "metadata": {
        "id": "ZWy--vQ4Sp9_"
      },
      "execution_count": null,
      "outputs": []
    },
    {
      "cell_type": "code",
      "source": [
        "history = model1.fit(features, labels,epochs=100)"
      ],
      "metadata": {
        "id": "IZL2ajzzSsQk",
        "colab": {
          "base_uri": "https://localhost:8080/"
        },
        "outputId": "33570e11-8794-4f56-b113-dc372f7cb48f"
      },
      "execution_count": null,
      "outputs": [
        {
          "output_type": "stream",
          "name": "stdout",
          "text": [
            "Epoch 1/100\n",
            "163/163 [==============================] - 1s 4ms/step - loss: 7.5407e-07 - accuracy: 1.0000\n",
            "Epoch 2/100\n",
            "163/163 [==============================] - 1s 4ms/step - loss: 7.0692e-08 - accuracy: 1.0000\n",
            "Epoch 3/100\n",
            "163/163 [==============================] - 1s 4ms/step - loss: 5.4987e-08 - accuracy: 1.0000\n",
            "Epoch 4/100\n",
            "163/163 [==============================] - 1s 4ms/step - loss: 4.4715e-08 - accuracy: 1.0000\n",
            "Epoch 5/100\n",
            "163/163 [==============================] - 1s 4ms/step - loss: 3.7126e-08 - accuracy: 1.0000\n",
            "Epoch 6/100\n",
            "163/163 [==============================] - 1s 4ms/step - loss: 3.1623e-08 - accuracy: 1.0000\n",
            "Epoch 7/100\n",
            "163/163 [==============================] - 1s 4ms/step - loss: 2.7060e-08 - accuracy: 1.0000\n",
            "Epoch 8/100\n",
            "163/163 [==============================] - 1s 4ms/step - loss: 2.3368e-08 - accuracy: 1.0000\n",
            "Epoch 9/100\n",
            "163/163 [==============================] - 1s 4ms/step - loss: 2.0364e-08 - accuracy: 1.0000\n",
            "Epoch 10/100\n",
            "163/163 [==============================] - 1s 4ms/step - loss: 1.8002e-08 - accuracy: 1.0000\n",
            "Epoch 11/100\n",
            "163/163 [==============================] - 1s 4ms/step - loss: 1.3622e-08 - accuracy: 1.0000\n",
            "Epoch 12/100\n",
            "163/163 [==============================] - 1s 4ms/step - loss: 1.2269e-08 - accuracy: 1.0000\n",
            "Epoch 13/100\n",
            "163/163 [==============================] - 1s 4ms/step - loss: 1.1123e-08 - accuracy: 1.0000\n",
            "Epoch 14/100\n",
            "163/163 [==============================] - 1s 4ms/step - loss: 1.0068e-08 - accuracy: 1.0000\n",
            "Epoch 15/100\n",
            "163/163 [==============================] - 1s 4ms/step - loss: 9.1503e-09 - accuracy: 1.0000\n",
            "Epoch 16/100\n",
            "163/163 [==============================] - 1s 4ms/step - loss: 8.3247e-09 - accuracy: 1.0000\n",
            "Epoch 17/100\n",
            "163/163 [==============================] - 1s 4ms/step - loss: 7.6138e-09 - accuracy: 1.0000\n",
            "Epoch 18/100\n",
            "163/163 [==============================] - 1s 4ms/step - loss: 6.9488e-09 - accuracy: 1.0000\n",
            "Epoch 19/100\n",
            "163/163 [==============================] - 1s 4ms/step - loss: 6.3525e-09 - accuracy: 1.0000\n",
            "Epoch 20/100\n",
            "163/163 [==============================] - 1s 4ms/step - loss: 5.8480e-09 - accuracy: 1.0000\n",
            "Epoch 21/100\n",
            "163/163 [==============================] - 1s 4ms/step - loss: 5.3435e-09 - accuracy: 1.0000\n",
            "Epoch 22/100\n",
            "163/163 [==============================] - 1s 4ms/step - loss: 4.9995e-09 - accuracy: 1.0000\n",
            "Epoch 23/100\n",
            "163/163 [==============================] - 1s 4ms/step - loss: 4.4720e-09 - accuracy: 1.0000\n",
            "Epoch 24/100\n",
            "163/163 [==============================] - 1s 4ms/step - loss: 4.1051e-09 - accuracy: 1.0000\n",
            "Epoch 25/100\n",
            "163/163 [==============================] - 1s 4ms/step - loss: 3.7611e-09 - accuracy: 1.0000\n",
            "Epoch 26/100\n",
            "163/163 [==============================] - 1s 4ms/step - loss: 3.4630e-09 - accuracy: 1.0000\n",
            "Epoch 27/100\n",
            "163/163 [==============================] - 1s 4ms/step - loss: 3.1878e-09 - accuracy: 1.0000\n",
            "Epoch 28/100\n",
            "163/163 [==============================] - 1s 4ms/step - loss: 2.9126e-09 - accuracy: 1.0000\n",
            "Epoch 29/100\n",
            "163/163 [==============================] - 1s 4ms/step - loss: 2.6832e-09 - accuracy: 1.0000\n",
            "Epoch 30/100\n",
            "163/163 [==============================] - 1s 4ms/step - loss: 2.4768e-09 - accuracy: 1.0000\n",
            "Epoch 31/100\n",
            "163/163 [==============================] - 1s 4ms/step - loss: 2.2704e-09 - accuracy: 1.0000\n",
            "Epoch 32/100\n",
            "163/163 [==============================] - 1s 4ms/step - loss: 2.0870e-09 - accuracy: 1.0000\n",
            "Epoch 33/100\n",
            "163/163 [==============================] - 1s 4ms/step - loss: 1.9264e-09 - accuracy: 1.0000\n",
            "Epoch 34/100\n",
            "163/163 [==============================] - 1s 4ms/step - loss: 1.7659e-09 - accuracy: 1.0000\n",
            "Epoch 35/100\n",
            "163/163 [==============================] - 1s 4ms/step - loss: 1.6283e-09 - accuracy: 1.0000\n",
            "Epoch 36/100\n",
            "163/163 [==============================] - 1s 4ms/step - loss: 1.4907e-09 - accuracy: 1.0000\n",
            "Epoch 37/100\n",
            "163/163 [==============================] - 1s 4ms/step - loss: 1.3760e-09 - accuracy: 1.0000\n",
            "Epoch 38/100\n",
            "163/163 [==============================] - 1s 4ms/step - loss: 1.2613e-09 - accuracy: 1.0000\n",
            "Epoch 39/100\n",
            "163/163 [==============================] - 1s 4ms/step - loss: 1.1696e-09 - accuracy: 1.0000\n",
            "Epoch 40/100\n",
            "163/163 [==============================] - 1s 4ms/step - loss: 1.0779e-09 - accuracy: 1.0000\n",
            "Epoch 41/100\n",
            "163/163 [==============================] - 1s 4ms/step - loss: 9.8615e-10 - accuracy: 1.0000\n",
            "Epoch 42/100\n",
            "163/163 [==============================] - 1s 4ms/step - loss: 9.1735e-10 - accuracy: 1.0000\n",
            "Epoch 43/100\n",
            "163/163 [==============================] - 1s 4ms/step - loss: 8.4854e-10 - accuracy: 1.0000\n",
            "Epoch 44/100\n",
            "163/163 [==============================] - 1s 4ms/step - loss: 7.7974e-10 - accuracy: 1.0000\n",
            "Epoch 45/100\n",
            "163/163 [==============================] - 1s 4ms/step - loss: 7.1094e-10 - accuracy: 1.0000\n",
            "Epoch 46/100\n",
            "163/163 [==============================] - 1s 4ms/step - loss: 6.6508e-10 - accuracy: 1.0000\n",
            "Epoch 47/100\n",
            "163/163 [==============================] - 1s 4ms/step - loss: 5.9627e-10 - accuracy: 1.0000\n",
            "Epoch 48/100\n",
            "163/163 [==============================] - 1s 4ms/step - loss: 5.5041e-10 - accuracy: 1.0000\n",
            "Epoch 49/100\n",
            "163/163 [==============================] - 1s 4ms/step - loss: 5.0454e-10 - accuracy: 1.0000\n",
            "Epoch 50/100\n",
            "163/163 [==============================] - 1s 4ms/step - loss: 4.1281e-10 - accuracy: 1.0000\n",
            "Epoch 51/100\n",
            "163/163 [==============================] - 1s 4ms/step - loss: 3.8987e-10 - accuracy: 1.0000\n",
            "Epoch 52/100\n",
            "163/163 [==============================] - 1s 4ms/step - loss: 3.6694e-10 - accuracy: 1.0000\n",
            "Epoch 53/100\n",
            "163/163 [==============================] - 1s 4ms/step - loss: 3.4400e-10 - accuracy: 1.0000\n",
            "Epoch 54/100\n",
            "163/163 [==============================] - 1s 4ms/step - loss: 3.2107e-10 - accuracy: 1.0000\n",
            "Epoch 55/100\n",
            "163/163 [==============================] - 1s 4ms/step - loss: 2.9814e-10 - accuracy: 1.0000\n",
            "Epoch 56/100\n",
            "163/163 [==============================] - 1s 4ms/step - loss: 2.7520e-10 - accuracy: 1.0000\n",
            "Epoch 57/100\n",
            "163/163 [==============================] - 1s 5ms/step - loss: 2.5227e-10 - accuracy: 1.0000\n",
            "Epoch 58/100\n",
            "163/163 [==============================] - 1s 5ms/step - loss: 2.2934e-10 - accuracy: 1.0000\n",
            "Epoch 59/100\n",
            "163/163 [==============================] - 1s 4ms/step - loss: 2.0640e-10 - accuracy: 1.0000\n",
            "Epoch 60/100\n",
            "163/163 [==============================] - 1s 4ms/step - loss: 2.0640e-10 - accuracy: 1.0000\n",
            "Epoch 61/100\n",
            "163/163 [==============================] - 1s 4ms/step - loss: 1.8347e-10 - accuracy: 1.0000\n",
            "Epoch 62/100\n",
            "163/163 [==============================] - 1s 4ms/step - loss: 1.6054e-10 - accuracy: 1.0000\n",
            "Epoch 63/100\n",
            "163/163 [==============================] - 1s 4ms/step - loss: 1.6054e-10 - accuracy: 1.0000\n",
            "Epoch 64/100\n",
            "163/163 [==============================] - 1s 4ms/step - loss: 1.3760e-10 - accuracy: 1.0000\n",
            "Epoch 65/100\n",
            "163/163 [==============================] - 1s 4ms/step - loss: 1.3760e-10 - accuracy: 1.0000\n",
            "Epoch 66/100\n",
            "163/163 [==============================] - 1s 4ms/step - loss: 1.1467e-10 - accuracy: 1.0000\n",
            "Epoch 67/100\n",
            "163/163 [==============================] - 1s 4ms/step - loss: 1.1467e-10 - accuracy: 1.0000\n",
            "Epoch 68/100\n",
            "163/163 [==============================] - 1s 4ms/step - loss: 1.1467e-10 - accuracy: 1.0000\n",
            "Epoch 69/100\n",
            "163/163 [==============================] - 1s 4ms/step - loss: 9.1735e-11 - accuracy: 1.0000\n",
            "Epoch 70/100\n",
            "163/163 [==============================] - 1s 4ms/step - loss: 9.1735e-11 - accuracy: 1.0000\n",
            "Epoch 71/100\n",
            "163/163 [==============================] - 1s 4ms/step - loss: 9.1735e-11 - accuracy: 1.0000\n",
            "Epoch 72/100\n",
            "163/163 [==============================] - 1s 4ms/step - loss: 6.8801e-11 - accuracy: 1.0000\n",
            "Epoch 73/100\n",
            "163/163 [==============================] - 1s 4ms/step - loss: 6.8801e-11 - accuracy: 1.0000\n",
            "Epoch 74/100\n",
            "163/163 [==============================] - 1s 4ms/step - loss: 6.8801e-11 - accuracy: 1.0000\n",
            "Epoch 75/100\n",
            "163/163 [==============================] - 1s 4ms/step - loss: 6.8801e-11 - accuracy: 1.0000\n",
            "Epoch 76/100\n",
            "163/163 [==============================] - 1s 4ms/step - loss: 4.5867e-11 - accuracy: 1.0000\n",
            "Epoch 77/100\n",
            "163/163 [==============================] - 1s 4ms/step - loss: 4.5867e-11 - accuracy: 1.0000\n",
            "Epoch 78/100\n",
            "163/163 [==============================] - 1s 4ms/step - loss: 4.5867e-11 - accuracy: 1.0000\n",
            "Epoch 79/100\n",
            "163/163 [==============================] - 1s 4ms/step - loss: 4.5867e-11 - accuracy: 1.0000\n",
            "Epoch 80/100\n",
            "163/163 [==============================] - 1s 4ms/step - loss: 4.5867e-11 - accuracy: 1.0000\n",
            "Epoch 81/100\n",
            "163/163 [==============================] - 1s 4ms/step - loss: 4.5867e-11 - accuracy: 1.0000\n",
            "Epoch 82/100\n",
            "163/163 [==============================] - 1s 4ms/step - loss: 2.2934e-11 - accuracy: 1.0000\n",
            "Epoch 83/100\n",
            "163/163 [==============================] - 1s 4ms/step - loss: 2.2934e-11 - accuracy: 1.0000\n",
            "Epoch 84/100\n",
            "163/163 [==============================] - 1s 4ms/step - loss: 2.2934e-11 - accuracy: 1.0000\n",
            "Epoch 85/100\n",
            "163/163 [==============================] - 1s 4ms/step - loss: 2.2934e-11 - accuracy: 1.0000\n",
            "Epoch 86/100\n",
            "163/163 [==============================] - 1s 4ms/step - loss: 2.2934e-11 - accuracy: 1.0000\n",
            "Epoch 87/100\n",
            "163/163 [==============================] - 1s 4ms/step - loss: 2.2934e-11 - accuracy: 1.0000\n",
            "Epoch 88/100\n",
            "163/163 [==============================] - 1s 4ms/step - loss: 2.2934e-11 - accuracy: 1.0000\n",
            "Epoch 89/100\n",
            "163/163 [==============================] - 1s 4ms/step - loss: 2.2934e-11 - accuracy: 1.0000\n",
            "Epoch 90/100\n",
            "163/163 [==============================] - 1s 4ms/step - loss: 2.2934e-11 - accuracy: 1.0000\n",
            "Epoch 91/100\n",
            "163/163 [==============================] - 1s 4ms/step - loss: 2.2934e-11 - accuracy: 1.0000\n",
            "Epoch 92/100\n",
            "163/163 [==============================] - 1s 4ms/step - loss: 2.2934e-11 - accuracy: 1.0000\n",
            "Epoch 93/100\n",
            "163/163 [==============================] - 1s 4ms/step - loss: 2.2934e-11 - accuracy: 1.0000\n",
            "Epoch 94/100\n",
            "163/163 [==============================] - 1s 4ms/step - loss: 2.2934e-11 - accuracy: 1.0000\n",
            "Epoch 95/100\n",
            "163/163 [==============================] - 1s 4ms/step - loss: 0.0000e+00 - accuracy: 1.0000\n",
            "Epoch 96/100\n",
            "163/163 [==============================] - 1s 4ms/step - loss: 0.0000e+00 - accuracy: 1.0000\n",
            "Epoch 97/100\n",
            "163/163 [==============================] - 1s 4ms/step - loss: 0.0000e+00 - accuracy: 1.0000\n",
            "Epoch 98/100\n",
            "163/163 [==============================] - 1s 4ms/step - loss: 0.0000e+00 - accuracy: 1.0000\n",
            "Epoch 99/100\n",
            "163/163 [==============================] - 1s 4ms/step - loss: 0.0000e+00 - accuracy: 1.0000\n",
            "Epoch 100/100\n",
            "163/163 [==============================] - 1s 4ms/step - loss: 0.0000e+00 - accuracy: 1.0000\n"
          ]
        }
      ]
    },
    {
      "cell_type": "code",
      "source": [
        "model1.save('my_model.h5')"
      ],
      "metadata": {
        "id": "M94IB_sJr-2A"
      },
      "execution_count": null,
      "outputs": []
    }
  ]
}