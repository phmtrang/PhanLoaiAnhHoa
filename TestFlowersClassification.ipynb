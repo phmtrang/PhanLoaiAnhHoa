{
  "nbformat": 4,
  "nbformat_minor": 0,
  "metadata": {
    "colab": {
      "name": "TestFlowersClassification.ipynb",
      "provenance": [],
      "collapsed_sections": []
    },
    "kernelspec": {
      "name": "python3",
      "display_name": "Python 3"
    },
    "language_info": {
      "name": "python"
    }
  },
  "cells": [
    {
      "cell_type": "code",
      "source": [
        "from google.colab import drive\n",
        "drive.mount('/content/drive')"
      ],
      "metadata": {
        "colab": {
          "base_uri": "https://localhost:8080/"
        },
        "id": "ACPiUh_Sxo3K",
        "outputId": "337979e5-a726-417a-c1db-7fc581e4053d"
      },
      "execution_count": 4,
      "outputs": [
        {
          "output_type": "stream",
          "name": "stdout",
          "text": [
            "Mounted at /content/drive\n"
          ]
        }
      ]
    },
    {
      "cell_type": "code",
      "execution_count": 5,
      "metadata": {
        "id": "MuDVh51tS1Vz"
      },
      "outputs": [],
      "source": [
        "# Thêm thư viện\n",
        "from sklearn.linear_model import LogisticRegression\n",
        "from sklearn.model_selection import GridSearchCV\n",
        "from sklearn.metrics import classification_report,confusion_matrix\n",
        "from imutils import paths\n",
        "from keras.applications.vgg16 import VGG16\n",
        "from keras.applications import imagenet_utils\n",
        "from keras.preprocessing.image import img_to_array\n",
        "from keras.preprocessing.image import load_img\n",
        "from sklearn.preprocessing import LabelEncoder\n",
        "from sklearn.preprocessing import LabelBinarizer\n",
        "from sklearn.model_selection import train_test_split\n",
        "import numpy as np\n",
        "import random\n",
        "import os\n",
        "import pandas as pd\n",
        "import matplotlib.pyplot as plt\n",
        "from sklearn.svm import SVC\n",
        "import joblib\n",
        "import cv2\n",
        "from sklearn.utils.extmath import softmax\n",
        "from keras import models\n",
        "from keras import layers\n",
        "from keras import optimizers\n",
        "import tensorflow as tf\n",
        "from tensorflow import keras"
      ]
    },
    {
      "cell_type": "code",
      "source": [
        "!unzip /content/drive/MyDrive/Test/Test.zip\n"
      ],
      "metadata": {
        "id": "9ihFRhjIWrbC"
      },
      "execution_count": null,
      "outputs": []
    },
    {
      "cell_type": "code",
      "source": [
        "# Lấy các đường dẫn đến ảnh.\n",
        "image_path_test = list(paths.list_images('Test/'))\n",
        "print(image_path_test)",
        "image_path_test =   sorted(image_path_test)"
      ],
      "metadata": {
        "id": "OmbhR-1aWukv"
      },
      "execution_count": null,
      "outputs": []
    },
    {
      "cell_type": "code",
      "source": [
        "model = VGG16(weights='imagenet', include_top=False)"
      ],
      "metadata": {
        "colab": {
          "base_uri": "https://localhost:8080/"
        },
        "id": "mp3XRM9mitBG",
        "outputId": "e4395fac-7989-45ef-94d1-f96099f915ce"
      },
      "execution_count": null,
      "outputs": [
        {
          "output_type": "stream",
          "name": "stdout",
          "text": [
            "Downloading data from https://storage.googleapis.com/tensorflow/keras-applications/vgg16/vgg16_weights_tf_dim_ordering_tf_kernels_notop.h5\n",
            "58892288/58889256 [==============================] - 0s 0us/step\n",
            "58900480/58889256 [==============================] - 0s 0us/step\n"
          ]
        }
      ]
    },
    {
      "cell_type": "code",
      "source": [
        "# Đường dẫn ảnh sẽ là dataset/tên_loài_hoa/tên_ảnh ví dụ dataset/Bluebell/image_0241.jpg nên p.split(os.path.sep)[-2] sẽ lấy ra được tên loài hoa\n",
        "labels_test = [p.split(os.path.sep)[-2] for p in image_path_test]\n",
        "\n",
        "# Chuyển tên các loài hoa thành số\n",
        "le = LabelEncoder()\n",
        "labels_test = le.fit_transform(labels_test)\n",
        "\n",
        "lb = LabelBinarizer()\n",
        "labels_test= lb.fit_transform(labels_test)"
      ],
      "metadata": {
        "id": "6oGjAD_FW4Sz"
      },
      "execution_count": null,
      "outputs": []
    },
    {
      "cell_type": "code",
      "source": [
        "list_image_test = []\n",
        "for (j, imagePath) in enumerate(image_path_test):\n",
        "    image_test = load_img(imagePath, target_size=(224, 224))\n",
        "    image_test = img_to_array(image_test)\n",
        "    \n",
        "    image_test = np.expand_dims(image_test, 0)\n",
        "    \n",
        "    image_test = imagenet_utils.preprocess_input(image_test)\n",
        "    \n",
        "    list_image_test.append(image_test)\n",
        "    \n",
        "list_image_test = np.vstack(list_image_test)"
      ],
      "metadata": {
        "id": "MRP7YZZ1jnLd"
      },
      "execution_count": null,
      "outputs": []
    },
    {
      "cell_type": "code",
      "source": [
        "features_test = model.predict(list_image_test)\n",
        "\n",
        "# Giống bước flatten trong CNN, chuyển từ tensor 3 chiều sau ConvNet sang vector 1 chiều\n",
        "features_test = features_test.reshape((features_test.shape[0], 512*7*7))"
      ],
      "metadata": {
        "id": "2ige0WF7ifAp"
      },
      "execution_count": null,
      "outputs": []
    },
    {
      "cell_type": "code",
      "source": [
        "X_test= features_test\n",
        "y_test = labels_test"
      ],
      "metadata": {
        "id": "O22efXskif2N"
      },
      "execution_count": null,
      "outputs": []
    },
    {
      "cell_type": "code",
      "source": [
        "new_model = tf.keras.models.load_model('/content/my_model1.h5')\n",
        "\n",
        "new_model.summary()"
      ],
      "metadata": {
        "colab": {
          "base_uri": "https://localhost:8080/"
        },
        "id": "503-S49yj4eD",
        "outputId": "36810db8-4fdd-4222-b04d-048ac5573233"
      },
      "execution_count": null,
      "outputs": [
        {
          "output_type": "stream",
          "name": "stdout",
          "text": [
            "Model: \"sequential\"\n",
            "_________________________________________________________________\n",
            " Layer (type)                Output Shape              Param #   \n",
            "=================================================================\n",
            " dense (Dense)               (None, 6)                 150534    \n",
            "                                                                 \n",
            "=================================================================\n",
            "Total params: 150,534\n",
            "Trainable params: 150,534\n",
            "Non-trainable params: 0\n",
            "_________________________________________________________________\n"
          ]
        }
      ]
    },
    {
      "cell_type": "code",
      "source": [
        "# Tinh cac chi so mo hinh\n",
        "y_pred = new_model.predict(X_test,verbose=0)\n",
        "rounded_labels=np.argmax(y_test, axis=1)\n",
        "rounded_pred=np.argmax(y_pred, axis=1)\n",
        "print(confusion_matrix(rounded_labels,rounded_pred))\n",
        "print(classification_report(rounded_labels,rounded_pred))"
      ],
      "metadata": {
        "colab": {
          "base_uri": "https://localhost:8080/"
        },
        "id": "krfhbIaCj94k",
        "outputId": "f4352798-005b-482c-bb39-4cebcd5b3c16"
      },
      "execution_count": null,
      "outputs": [
        {
          "output_type": "stream",
          "name": "stdout",
          "text": [
            "[[60  2  0  2  0  0]\n",
            " [ 3 83  0  4  5  1]\n",
            " [ 0  0 86  3  0  0]\n",
            " [ 0  1  4 82  6  1]\n",
            " [ 5  5  1  5 92  0]\n",
            " [ 0  0  0  0  0 90]]\n",
            "              precision    recall  f1-score   support\n",
            "\n",
            "           0       0.88      0.94      0.91        64\n",
            "           1       0.91      0.86      0.89        96\n",
            "           2       0.95      0.97      0.96        89\n",
            "           3       0.85      0.87      0.86        94\n",
            "           4       0.89      0.85      0.87       108\n",
            "           5       0.98      1.00      0.99        90\n",
            "\n",
            "    accuracy                           0.91       541\n",
            "   macro avg       0.91      0.92      0.91       541\n",
            "weighted avg       0.91      0.91      0.91       541\n",
            "\n"
          ]
        }
      ]
    },
    {
      "cell_type": "code",
      "source": [
        "results={\n",
        "   0:'astilbe',\n",
        "   1:'bellflower',\n",
        "   2:'black-eyed susan',\n",
        "   3:'calendula',\n",
        "   4:'california_poppy',\n",
        "   5:'tulip'\n",
        "}\n",
        "pred=new_model.predict(features_test)\n",
        "predict_label = []\n",
        "for item in pred:\n",
        "  predict_label.append(results[np.argmax(item)])\n",
        "print(predict_label)"
      ],
      "metadata": {
        "colab": {
          "base_uri": "https://localhost:8080/"
        },
        "id": "MJgT2a0pkKr4",
        "outputId": "104209d0-99ce-41ad-91d5-973fe14fc806"
      },
      "execution_count": null,
      "outputs": [
        {
          "output_type": "stream",
          "name": "stdout",
          "text": [
            "['calendula', 'calendula', 'calendula', 'calendula', 'calendula', 'calendula', 'calendula', 'calendula', 'calendula', 'calendula', 'calendula', 'calendula', 'calendula', 'black-eyed susan', 'calendula', 'calendula', 'calendula', 'black-eyed susan', 'calendula', 'calendula', 'calendula', 'calendula', 'calendula', 'calendula', 'calendula', 'calendula', 'calendula', 'calendula', 'calendula', 'calendula', 'calendula', 'calendula', 'calendula', 'calendula', 'calendula', 'calendula', 'calendula', 'black-eyed susan', 'calendula', 'calendula', 'tulip', 'calendula', 'calendula', 'calendula', 'california_poppy', 'calendula', 'california_poppy', 'calendula', 'calendula', 'black-eyed susan', 'calendula', 'calendula', 'calendula', 'calendula', 'california_poppy', 'california_poppy', 'calendula', 'calendula', 'bellflower', 'calendula', 'calendula', 'calendula', 'calendula', 'calendula', 'calendula', 'calendula', 'calendula', 'calendula', 'california_poppy', 'calendula', 'calendula', 'calendula', 'calendula', 'calendula', 'calendula', 'calendula', 'calendula', 'calendula', 'calendula', 'calendula', 'calendula', 'calendula', 'california_poppy', 'calendula', 'calendula', 'calendula', 'calendula', 'calendula', 'calendula', 'calendula', 'calendula', 'calendula', 'calendula', 'calendula', 'astilbe', 'astilbe', 'astilbe', 'astilbe', 'astilbe', 'astilbe', 'astilbe', 'astilbe', 'astilbe', 'astilbe', 'astilbe', 'astilbe', 'astilbe', 'astilbe', 'astilbe', 'astilbe', 'astilbe', 'astilbe', 'astilbe', 'astilbe', 'astilbe', 'astilbe', 'astilbe', 'astilbe', 'astilbe', 'astilbe', 'astilbe', 'astilbe', 'astilbe', 'astilbe', 'astilbe', 'astilbe', 'astilbe', 'astilbe', 'astilbe', 'calendula', 'astilbe', 'astilbe', 'astilbe', 'astilbe', 'astilbe', 'astilbe', 'astilbe', 'astilbe', 'astilbe', 'astilbe', 'astilbe', 'astilbe', 'astilbe', 'calendula', 'astilbe', 'astilbe', 'astilbe', 'astilbe', 'astilbe', 'bellflower', 'astilbe', 'astilbe', 'astilbe', 'bellflower', 'astilbe', 'astilbe', 'astilbe', 'astilbe', 'black-eyed susan', 'black-eyed susan', 'black-eyed susan', 'black-eyed susan', 'black-eyed susan', 'black-eyed susan', 'calendula', 'black-eyed susan', 'black-eyed susan', 'black-eyed susan', 'black-eyed susan', 'black-eyed susan', 'black-eyed susan', 'black-eyed susan', 'black-eyed susan', 'black-eyed susan', 'black-eyed susan', 'black-eyed susan', 'black-eyed susan', 'black-eyed susan', 'black-eyed susan', 'black-eyed susan', 'black-eyed susan', 'black-eyed susan', 'black-eyed susan', 'black-eyed susan', 'black-eyed susan', 'black-eyed susan', 'black-eyed susan', 'black-eyed susan', 'black-eyed susan', 'black-eyed susan', 'black-eyed susan', 'calendula', 'black-eyed susan', 'black-eyed susan', 'black-eyed susan', 'black-eyed susan', 'black-eyed susan', 'black-eyed susan', 'black-eyed susan', 'black-eyed susan', 'black-eyed susan', 'black-eyed susan', 'black-eyed susan', 'black-eyed susan', 'black-eyed susan', 'black-eyed susan', 'black-eyed susan', 'black-eyed susan', 'black-eyed susan', 'black-eyed susan', 'black-eyed susan', 'black-eyed susan', 'black-eyed susan', 'calendula', 'black-eyed susan', 'black-eyed susan', 'black-eyed susan', 'black-eyed susan', 'black-eyed susan', 'black-eyed susan', 'black-eyed susan', 'black-eyed susan', 'black-eyed susan', 'black-eyed susan', 'black-eyed susan', 'black-eyed susan', 'black-eyed susan', 'black-eyed susan', 'black-eyed susan', 'black-eyed susan', 'black-eyed susan', 'black-eyed susan', 'black-eyed susan', 'black-eyed susan', 'black-eyed susan', 'black-eyed susan', 'black-eyed susan', 'black-eyed susan', 'black-eyed susan', 'black-eyed susan', 'black-eyed susan', 'black-eyed susan', 'black-eyed susan', 'black-eyed susan', 'black-eyed susan', 'black-eyed susan', 'black-eyed susan', 'bellflower', 'bellflower', 'bellflower', 'bellflower', 'bellflower', 'astilbe', 'bellflower', 'bellflower', 'bellflower', 'bellflower', 'bellflower', 'astilbe', 'bellflower', 'california_poppy', 'bellflower', 'bellflower', 'bellflower', 'bellflower', 'bellflower', 'bellflower', 'bellflower', 'bellflower', 'bellflower', 'bellflower', 'bellflower', 'bellflower', 'bellflower', 'bellflower', 'bellflower', 'bellflower', 'bellflower', 'bellflower', 'bellflower', 'bellflower', 'bellflower', 'astilbe', 'bellflower', 'bellflower', 'bellflower', 'bellflower', 'bellflower', 'bellflower', 'calendula', 'bellflower', 'bellflower', 'bellflower', 'calendula', 'tulip', 'bellflower', 'bellflower', 'bellflower', 'bellflower', 'california_poppy', 'bellflower', 'bellflower', 'bellflower', 'bellflower', 'bellflower', 'bellflower', 'bellflower', 'calendula', 'bellflower', 'bellflower', 'bellflower', 'bellflower', 'bellflower', 'bellflower', 'bellflower', 'bellflower', 'bellflower', 'bellflower', 'bellflower', 'bellflower', 'bellflower', 'bellflower', 'bellflower', 'bellflower', 'california_poppy', 'bellflower', 'bellflower', 'bellflower', 'california_poppy', 'bellflower', 'bellflower', 'bellflower', 'bellflower', 'california_poppy', 'bellflower', 'bellflower', 'bellflower', 'bellflower', 'calendula', 'bellflower', 'bellflower', 'bellflower', 'bellflower', 'california_poppy', 'california_poppy', 'california_poppy', 'california_poppy', 'california_poppy', 'bellflower', 'california_poppy', 'california_poppy', 'california_poppy', 'california_poppy', 'california_poppy', 'california_poppy', 'california_poppy', 'california_poppy', 'calendula', 'california_poppy', 'california_poppy', 'california_poppy', 'california_poppy', 'california_poppy', 'bellflower', 'california_poppy', 'bellflower', 'california_poppy', 'california_poppy', 'california_poppy', 'california_poppy', 'bellflower', 'california_poppy', 'california_poppy', 'astilbe', 'california_poppy', 'california_poppy', 'california_poppy', 'california_poppy', 'california_poppy', 'california_poppy', 'california_poppy', 'california_poppy', 'california_poppy', 'california_poppy', 'california_poppy', 'california_poppy', 'california_poppy', 'california_poppy', 'california_poppy', 'california_poppy', 'california_poppy', 'california_poppy', 'california_poppy', 'calendula', 'california_poppy', 'california_poppy', 'california_poppy', 'california_poppy', 'california_poppy', 'california_poppy', 'california_poppy', 'california_poppy', 'calendula', 'astilbe', 'california_poppy', 'california_poppy', 'california_poppy', 'california_poppy', 'california_poppy', 'california_poppy', 'california_poppy', 'california_poppy', 'california_poppy', 'california_poppy', 'calendula', 'california_poppy', 'california_poppy', 'california_poppy', 'california_poppy', 'california_poppy', 'black-eyed susan', 'california_poppy', 'california_poppy', 'california_poppy', 'california_poppy', 'california_poppy', 'california_poppy', 'california_poppy', 'california_poppy', 'california_poppy', 'california_poppy', 'california_poppy', 'california_poppy', 'california_poppy', 'california_poppy', 'california_poppy', 'california_poppy', 'california_poppy', 'california_poppy', 'california_poppy', 'california_poppy', 'california_poppy', 'california_poppy', 'astilbe', 'bellflower', 'astilbe', 'california_poppy', 'california_poppy', 'calendula', 'california_poppy', 'astilbe', 'tulip', 'tulip', 'tulip', 'tulip', 'tulip', 'tulip', 'tulip', 'tulip', 'tulip', 'tulip', 'tulip', 'tulip', 'tulip', 'tulip', 'tulip', 'tulip', 'tulip', 'tulip', 'tulip', 'tulip', 'tulip', 'tulip', 'tulip', 'tulip', 'tulip', 'tulip', 'tulip', 'tulip', 'tulip', 'tulip', 'tulip', 'tulip', 'tulip', 'tulip', 'tulip', 'tulip', 'tulip', 'tulip', 'tulip', 'tulip', 'tulip', 'tulip', 'tulip', 'tulip', 'tulip', 'tulip', 'tulip', 'tulip', 'tulip', 'tulip', 'tulip', 'tulip', 'tulip', 'tulip', 'tulip', 'tulip', 'tulip', 'tulip', 'tulip', 'tulip', 'tulip', 'tulip', 'tulip', 'tulip', 'tulip', 'tulip', 'tulip', 'tulip', 'tulip', 'tulip', 'tulip', 'tulip', 'tulip', 'tulip', 'tulip', 'tulip', 'tulip', 'tulip', 'tulip', 'tulip', 'tulip', 'tulip', 'tulip', 'tulip', 'tulip', 'tulip', 'tulip', 'tulip', 'tulip', 'tulip']\n"
          ]
        }
      ]
    },
    {
      "cell_type": "code",
      "source": [
        ""
      ],
      "metadata": {
        "id": "ejQWrUgYlN-c"
      },
      "execution_count": null,
      "outputs": []
    }
  ]
}
